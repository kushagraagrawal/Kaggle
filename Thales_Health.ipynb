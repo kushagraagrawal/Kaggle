{
  "nbformat": 4,
  "nbformat_minor": 0,
  "metadata": {
    "colab": {
      "name": "Thales_Health.ipynb",
      "version": "0.3.2",
      "provenance": [],
      "include_colab_link": true
    },
    "kernelspec": {
      "name": "python3",
      "display_name": "Python 3"
    }
  },
  "cells": [
    {
      "cell_type": "markdown",
      "metadata": {
        "id": "view-in-github",
        "colab_type": "text"
      },
      "source": [
        "<a href=\"https://colab.research.google.com/github/kushagraagrawal/Kaggle/blob/master/Thales_Health.ipynb\" target=\"_parent\"><img src=\"https://colab.research.google.com/assets/colab-badge.svg\" alt=\"Open In Colab\"/></a>"
      ]
    },
    {
      "metadata": {
        "id": "mTj8NSbnBaW8",
        "colab_type": "code",
        "outputId": "7b3c7fde-837a-402e-908f-7130d65e18cc",
        "colab": {
          "base_uri": "https://localhost:8080/",
          "height": 121
        }
      },
      "cell_type": "code",
      "source": [
        "from google.colab import drive\n",
        "drive.mount('/content/gdrive')"
      ],
      "execution_count": 0,
      "outputs": [
        {
          "output_type": "stream",
          "text": [
            "Go to this URL in a browser: https://accounts.google.com/o/oauth2/auth?client_id=947318989803-6bn6qk8qdgf4n4g3pfee6491hc0brc4i.apps.googleusercontent.com&redirect_uri=urn%3Aietf%3Awg%3Aoauth%3A2.0%3Aoob&scope=email%20https%3A%2F%2Fwww.googleapis.com%2Fauth%2Fdocs.test%20https%3A%2F%2Fwww.googleapis.com%2Fauth%2Fdrive%20https%3A%2F%2Fwww.googleapis.com%2Fauth%2Fdrive.photos.readonly%20https%3A%2F%2Fwww.googleapis.com%2Fauth%2Fpeopleapi.readonly&response_type=code\n",
            "\n",
            "Enter your authorization code:\n",
            "··········\n",
            "Mounted at /content/gdrive\n"
          ],
          "name": "stdout"
        }
      ]
    },
    {
      "metadata": {
        "id": "l5blb6IB_0-Q",
        "colab_type": "code",
        "colab": {}
      },
      "cell_type": "code",
      "source": [
        "import zipfile\n",
        "with zipfile.ZipFile('gdrive/My Drive/Colab Notebooks/DataChallenge.zip', 'r') as zip_ref:\n",
        "    zip_ref.extractall('dataChallenge')"
      ],
      "execution_count": 0,
      "outputs": []
    },
    {
      "metadata": {
        "id": "dKYwvfTuz2Kv",
        "colab_type": "code",
        "outputId": "b5cbb246-4258-40d6-e7ed-55530bc6a87e",
        "colab": {
          "base_uri": "https://localhost:8080/",
          "height": 138
        }
      },
      "cell_type": "code",
      "source": [
        "!pip install tifffile"
      ],
      "execution_count": 0,
      "outputs": [
        {
          "output_type": "stream",
          "text": [
            "Collecting tifffile\n",
            "\u001b[?25l  Downloading https://files.pythonhosted.org/packages/41/03/977ee0a369ac4f922f5189d391ae6181fa132852e423a5ee399b456d8357/tifffile-2019.3.18-py2.py3-none-any.whl (126kB)\n",
            "\u001b[K    100% |████████████████████████████████| 133kB 3.8MB/s \n",
            "\u001b[?25hRequirement already satisfied: numpy>=1.11.3 in /usr/local/lib/python3.6/dist-packages (from tifffile) (1.14.6)\n",
            "Installing collected packages: tifffile\n",
            "Successfully installed tifffile-2019.3.18\n"
          ],
          "name": "stdout"
        }
      ]
    },
    {
      "metadata": {
        "id": "k0tX9XOnzBRB",
        "colab_type": "code",
        "colab": {}
      },
      "cell_type": "code",
      "source": [
        "import numpy as np\n",
        "import tifffile as tiff\n",
        "import matplotlib.pyplot as plt\n",
        "import pandas as pd\n",
        "import time\n",
        "from math import *"
      ],
      "execution_count": 0,
      "outputs": []
    },
    {
      "metadata": {
        "id": "mKGzgElzz7iB",
        "colab_type": "code",
        "colab": {}
      },
      "cell_type": "code",
      "source": [
        "def read_images(nameFile):\n",
        "    \"\"\"\n",
        "    Return a list of images present in the .tiff file named \n",
        "    `nameFile` in the Data folder\n",
        "    \"\"\"\n",
        "    dataImages = []\n",
        "    scan = []\n",
        "    try:\n",
        "        scan = tiff.imread(\"dataChallenge/DataChallenge/\"+nameFile) # load the images\n",
        "    except:\n",
        "        print(\"ERROR: file Data/\" + nameFile + \" not found!\")\n",
        "        return\n",
        "\n",
        "    for element in range(len(scan)):\n",
        "        image = scan[element, :,:,0] # Images are in gray scale\n",
        "        dataImages.append(image)\n",
        "        \n",
        "    return dataImages"
      ],
      "execution_count": 0,
      "outputs": []
    },
    {
      "metadata": {
        "id": "DJjEuvMJ0DbX",
        "colab_type": "code",
        "outputId": "03818c08-12ca-45a3-f4eb-0cf07a969726",
        "colab": {
          "base_uri": "https://localhost:8080/",
          "height": 34
        }
      },
      "cell_type": "code",
      "source": [
        "train_images = read_images(\"images_training.tiff\")\n",
        "print(len(train_images))"
      ],
      "execution_count": 0,
      "outputs": [
        {
          "output_type": "stream",
          "text": [
            "209933\n"
          ],
          "name": "stdout"
        }
      ]
    },
    {
      "metadata": {
        "id": "_x0TOmfN0Fhf",
        "colab_type": "code",
        "outputId": "14a7743d-d08d-4e68-dab0-5bbecf24a881",
        "colab": {
          "base_uri": "https://localhost:8080/",
          "height": 364
        }
      },
      "cell_type": "code",
      "source": [
        "plt.imshow(train_images[100], cmap=plt.get_cmap('gray'))"
      ],
      "execution_count": 0,
      "outputs": [
        {
          "output_type": "execute_result",
          "data": {
            "text/plain": [
              "<matplotlib.image.AxesImage at 0x7f9400571b70>"
            ]
          },
          "metadata": {
            "tags": []
          },
          "execution_count": 8
        },
        {
          "output_type": "display_data",
          "data": {
            "image/png": "[encoded data removed]",
            "text/plain": [
              "<Figure size 576x396 with 1 Axes>"
            ]
          },
          "metadata": {
            "tags": []
          }
        }
      ]
    },
    {
      "metadata": {
        "id": "quQvuMfe0IHK",
        "colab_type": "code",
        "colab": {}
      },
      "cell_type": "code",
      "source": [
        "descriptions = pd.read_csv(\"./dataChallenge/DataChallenge/descriptions_training.csv\", header=None, \n",
        "                           names = [\"nb_spots\", \n",
        "                                    \"x_first_spot\", \"y_first_spot\",\n",
        "                                    \"x_second_spot\", \"y_second_spot\"])"
      ],
      "execution_count": 0,
      "outputs": []
    },
    {
      "metadata": {
        "id": "VWWK_n5h0Khx",
        "colab_type": "code",
        "outputId": "90b5b5f4-68aa-45a8-d231-947c0fb3592a",
        "colab": {
          "base_uri": "https://localhost:8080/",
          "height": 195
        }
      },
      "cell_type": "code",
      "source": [
        "descriptions.head()"
      ],
      "execution_count": 0,
      "outputs": [
        {
          "output_type": "execute_result",
          "data": {
            "text/html": [
              "<div>\n",
              "<style scoped>\n",
              "    .dataframe tbody tr th:only-of-type {\n",
              "        vertical-align: middle;\n",
              "    }\n",
              "\n",
              "    .dataframe tbody tr th {\n",
              "        vertical-align: top;\n",
              "    }\n",
              "\n",
              "    .dataframe thead th {\n",
              "        text-align: right;\n",
              "    }\n",
              "</style>\n",
              "<table border=\"1\" class=\"dataframe\">\n",
              "  <thead>\n",
              "    <tr style=\"text-align: right;\">\n",
              "      <th></th>\n",
              "      <th>nb_spots</th>\n",
              "      <th>x_first_spot</th>\n",
              "      <th>y_first_spot</th>\n",
              "      <th>x_second_spot</th>\n",
              "      <th>y_second_spot</th>\n",
              "    </tr>\n",
              "  </thead>\n",
              "  <tbody>\n",
              "    <tr>\n",
              "      <th>0</th>\n",
              "      <td>1</td>\n",
              "      <td>18.877351</td>\n",
              "      <td>16.573234</td>\n",
              "      <td>0.0</td>\n",
              "      <td>0.0</td>\n",
              "    </tr>\n",
              "    <tr>\n",
              "      <th>1</th>\n",
              "      <td>1</td>\n",
              "      <td>10.159097</td>\n",
              "      <td>15.718106</td>\n",
              "      <td>0.0</td>\n",
              "      <td>0.0</td>\n",
              "    </tr>\n",
              "    <tr>\n",
              "      <th>2</th>\n",
              "      <td>1</td>\n",
              "      <td>9.441056</td>\n",
              "      <td>14.829910</td>\n",
              "      <td>0.0</td>\n",
              "      <td>0.0</td>\n",
              "    </tr>\n",
              "    <tr>\n",
              "      <th>3</th>\n",
              "      <td>0</td>\n",
              "      <td>0.000000</td>\n",
              "      <td>0.000000</td>\n",
              "      <td>0.0</td>\n",
              "      <td>0.0</td>\n",
              "    </tr>\n",
              "    <tr>\n",
              "      <th>4</th>\n",
              "      <td>0</td>\n",
              "      <td>0.000000</td>\n",
              "      <td>0.000000</td>\n",
              "      <td>0.0</td>\n",
              "      <td>0.0</td>\n",
              "    </tr>\n",
              "  </tbody>\n",
              "</table>\n",
              "</div>"
            ],
            "text/plain": [
              "   nb_spots  x_first_spot  y_first_spot  x_second_spot  y_second_spot\n",
              "0         1     18.877351     16.573234            0.0            0.0\n",
              "1         1     10.159097     15.718106            0.0            0.0\n",
              "2         1      9.441056     14.829910            0.0            0.0\n",
              "3         0      0.000000      0.000000            0.0            0.0\n",
              "4         0      0.000000      0.000000            0.0            0.0"
            ]
          },
          "metadata": {
            "tags": []
          },
          "execution_count": 11
        }
      ]
    },
    {
      "metadata": {
        "id": "cM2tvppq0QZu",
        "colab_type": "code",
        "outputId": "991f689e-2d0a-4554-c7e2-8f0e694ca5c0",
        "colab": {
          "base_uri": "https://localhost:8080/",
          "height": 364
        }
      },
      "cell_type": "code",
      "source": [
        "nImage = 16\n",
        "image_copy = np.copy(train_images[nImage])\n",
        "spot1 = descriptions.iloc[nImage, 1:3].values\n",
        "spot2 = descriptions.iloc[nImage, 3:5].values\n",
        "intensity = min( np.max(image_copy) + 20, 255)\n",
        "if spot1[0] != 0 and spot1[1] != 0:\n",
        "    image_copy[int(round(spot1[1]))][int(round(spot1[0]))] = intensity\n",
        "if spot2[0] != 0 and spot2[1] != 0:\n",
        "    image_copy[int(round(spot2[1]))][int(round(spot2[0]))] = intensity\n",
        "plt.imshow(image_copy, cmap=plt.get_cmap('gray'))"
      ],
      "execution_count": 0,
      "outputs": [
        {
          "output_type": "execute_result",
          "data": {
            "text/plain": [
              "<matplotlib.image.AxesImage at 0x7f9401a31400>"
            ]
          },
          "metadata": {
            "tags": []
          },
          "execution_count": 12
        },
        {
          "output_type": "display_data",
          "data": {
            "image/png": "[encoded data removed]",
            "text/plain": [
              "<Figure size 576x396 with 1 Axes>"
            ]
          },
          "metadata": {
            "tags": []
          }
        }
      ]
    },
    {
      "metadata": {
        "id": "xFh8xMsq0S8l",
        "colab_type": "code",
        "colab": {}
      },
      "cell_type": "code",
      "source": [
        "def random_predict(images):\n",
        "    \"\"\"\n",
        "    Return a DataFrame with a random pediciton for the `images` list.\n",
        "    \"\"\"\n",
        "    rand_spot = np.random.randint(low = 0, high = 21, size = len(images))\n",
        "    rand_location = np.random.random(len(images)) * 16 + 4\n",
        "    answer =  pd.DataFrame(0, \n",
        "                           index=np.arange(len(images)), \n",
        "                           columns=[\"nb_spots\", \n",
        "                                     \"x_first_spot\", \"y_first_spot\",\n",
        "                                     \"x_second_spot\", \"y_second_spot\"])\n",
        "    # Zero spot\n",
        "    cond = (rand_spot) < 10\n",
        "    answer.nb_spots[cond] = 0\n",
        "    # One spot\n",
        "    cond = (rand_spot >= 10) & (rand_spot < 20)\n",
        "    answer.nb_spots[cond] = 1\n",
        "    answer.x_first_spot[cond] = rand_location[cond]\n",
        "    answer.y_first_spot[cond] = rand_location[cond]\n",
        "    # Two spots\n",
        "    cond = (rand_spot == 20)\n",
        "    answer.nb_spots[cond] = 2\n",
        "    answer.x_first_spot[cond] = rand_location[cond]\n",
        "    answer.y_first_spot[cond] = rand_location[cond]\n",
        "    answer.x_second_spot[cond] = rand_location[cond]\n",
        "    answer.y_second_spot[cond] = rand_location[cond]\n",
        "    return answer"
      ],
      "execution_count": 0,
      "outputs": []
    },
    {
      "metadata": {
        "id": "DfPaiT_n0b3a",
        "colab_type": "code",
        "outputId": "285cc707-519c-425b-d6a5-e669d1d904f8",
        "colab": {
          "base_uri": "https://localhost:8080/",
          "height": 166
        }
      },
      "cell_type": "code",
      "source": [
        "train_prediction = random_predict(train_images)\n",
        "train_prediction.groupby(\"nb_spots\").mean()"
      ],
      "execution_count": 0,
      "outputs": [
        {
          "output_type": "execute_result",
          "data": {
            "text/html": [
              "<div>\n",
              "<style scoped>\n",
              "    .dataframe tbody tr th:only-of-type {\n",
              "        vertical-align: middle;\n",
              "    }\n",
              "\n",
              "    .dataframe tbody tr th {\n",
              "        vertical-align: top;\n",
              "    }\n",
              "\n",
              "    .dataframe thead th {\n",
              "        text-align: right;\n",
              "    }\n",
              "</style>\n",
              "<table border=\"1\" class=\"dataframe\">\n",
              "  <thead>\n",
              "    <tr style=\"text-align: right;\">\n",
              "      <th></th>\n",
              "      <th>x_first_spot</th>\n",
              "      <th>y_first_spot</th>\n",
              "      <th>x_second_spot</th>\n",
              "      <th>y_second_spot</th>\n",
              "    </tr>\n",
              "    <tr>\n",
              "      <th>nb_spots</th>\n",
              "      <th></th>\n",
              "      <th></th>\n",
              "      <th></th>\n",
              "      <th></th>\n",
              "    </tr>\n",
              "  </thead>\n",
              "  <tbody>\n",
              "    <tr>\n",
              "      <th>0</th>\n",
              "      <td>0.000000</td>\n",
              "      <td>0.000000</td>\n",
              "      <td>0.000000</td>\n",
              "      <td>0.000000</td>\n",
              "    </tr>\n",
              "    <tr>\n",
              "      <th>1</th>\n",
              "      <td>11.494896</td>\n",
              "      <td>11.494896</td>\n",
              "      <td>0.000000</td>\n",
              "      <td>0.000000</td>\n",
              "    </tr>\n",
              "    <tr>\n",
              "      <th>2</th>\n",
              "      <td>11.516867</td>\n",
              "      <td>11.516867</td>\n",
              "      <td>11.516867</td>\n",
              "      <td>11.516867</td>\n",
              "    </tr>\n",
              "  </tbody>\n",
              "</table>\n",
              "</div>"
            ],
            "text/plain": [
              "          x_first_spot  y_first_spot  x_second_spot  y_second_spot\n",
              "nb_spots                                                          \n",
              "0             0.000000      0.000000       0.000000       0.000000\n",
              "1            11.494896     11.494896       0.000000       0.000000\n",
              "2            11.516867     11.516867      11.516867      11.516867"
            ]
          },
          "metadata": {
            "tags": []
          },
          "execution_count": 14
        }
      ]
    },
    {
      "metadata": {
        "id": "N1sijogM0dte",
        "colab_type": "code",
        "outputId": "82a74ba5-9b87-4a3c-cced-d38ed607f492",
        "colab": {
          "base_uri": "https://localhost:8080/",
          "height": 166
        }
      },
      "cell_type": "code",
      "source": [
        "test_images = read_images(\"images_test.tiff\")\n",
        "test_prediction = random_predict(test_images)\n",
        "test_prediction.groupby(\"nb_spots\").mean()"
      ],
      "execution_count": 0,
      "outputs": [
        {
          "output_type": "execute_result",
          "data": {
            "text/html": [
              "<div>\n",
              "<style scoped>\n",
              "    .dataframe tbody tr th:only-of-type {\n",
              "        vertical-align: middle;\n",
              "    }\n",
              "\n",
              "    .dataframe tbody tr th {\n",
              "        vertical-align: top;\n",
              "    }\n",
              "\n",
              "    .dataframe thead th {\n",
              "        text-align: right;\n",
              "    }\n",
              "</style>\n",
              "<table border=\"1\" class=\"dataframe\">\n",
              "  <thead>\n",
              "    <tr style=\"text-align: right;\">\n",
              "      <th></th>\n",
              "      <th>x_first_spot</th>\n",
              "      <th>y_first_spot</th>\n",
              "      <th>x_second_spot</th>\n",
              "      <th>y_second_spot</th>\n",
              "    </tr>\n",
              "    <tr>\n",
              "      <th>nb_spots</th>\n",
              "      <th></th>\n",
              "      <th></th>\n",
              "      <th></th>\n",
              "      <th></th>\n",
              "    </tr>\n",
              "  </thead>\n",
              "  <tbody>\n",
              "    <tr>\n",
              "      <th>0</th>\n",
              "      <td>0.000000</td>\n",
              "      <td>0.000000</td>\n",
              "      <td>0.000000</td>\n",
              "      <td>0.000000</td>\n",
              "    </tr>\n",
              "    <tr>\n",
              "      <th>1</th>\n",
              "      <td>11.518428</td>\n",
              "      <td>11.518428</td>\n",
              "      <td>0.000000</td>\n",
              "      <td>0.000000</td>\n",
              "    </tr>\n",
              "    <tr>\n",
              "      <th>2</th>\n",
              "      <td>11.482404</td>\n",
              "      <td>11.482404</td>\n",
              "      <td>11.482404</td>\n",
              "      <td>11.482404</td>\n",
              "    </tr>\n",
              "  </tbody>\n",
              "</table>\n",
              "</div>"
            ],
            "text/plain": [
              "          x_first_spot  y_first_spot  x_second_spot  y_second_spot\n",
              "nb_spots                                                          \n",
              "0             0.000000      0.000000       0.000000       0.000000\n",
              "1            11.518428     11.518428       0.000000       0.000000\n",
              "2            11.482404     11.482404      11.482404      11.482404"
            ]
          },
          "metadata": {
            "tags": []
          },
          "execution_count": 15
        }
      ]
    },
    {
      "metadata": {
        "id": "_ywJovz10fMA",
        "colab_type": "code",
        "colab": {}
      },
      "cell_type": "code",
      "source": [
        "test_prediction.to_csv(\"answers.csv\", header= False)"
      ],
      "execution_count": 0,
      "outputs": []
    },
    {
      "metadata": {
        "id": "9gx7XVR_0g0d",
        "colab_type": "code",
        "colab": {}
      },
      "cell_type": "code",
      "source": [
        "# function used to compute the score in the competition\n",
        "## truth: the correct description of the spots\n",
        "## observe: the compute description of the spots\n",
        "def computeScore(truth, observe):\n",
        "    alpha0 = 21/50.0\n",
        "    alpha1 = 21/20.0\n",
        "    alpha2 = 21*3/10\n",
        "    assert len(truth) == len(observe)\n",
        "    score = 0\n",
        "    nb0 = 0\n",
        "    nb1 = 0\n",
        "    nb2 = 0\n",
        "    for i in range(len(truth)):\n",
        "        try :\n",
        "            assert len(truth[i])==6\n",
        "            assert len(observe[i])==6\n",
        "        except:\n",
        "            print(len(truth[i]))\n",
        "            print(len(observe[i]))\n",
        "            print(i)\n",
        "            print(\"ERROR: the format of the file is wrong\")\n",
        "            return 1000000000000\n",
        "        cur_truth = [int(truth[i][1]), float(truth[i][2]), float(truth[i][3]), float(truth[i][4]), float(truth[i][5])]\n",
        "        cur_observe = [int(observe[i][1]), float(observe[i][2]), float(observe[i][3]), float(observe[i][4]), float(observe[i][5])]\n",
        "\n",
        "        if cur_truth[0] == 0:\n",
        "            score += alpha0 * f0(cur_truth, cur_observe)\n",
        "            nb0 += 1\n",
        "        elif cur_truth[0] == 1:\n",
        "            score += alpha1 * f1(cur_truth, cur_observe)\n",
        "            nb1 += 1\n",
        "        elif cur_truth[0] == 2:\n",
        "            score += alpha2 * f2(cur_truth, cur_observe)\n",
        "            nb2 += 1\n",
        "        else :\n",
        "            score+=1\n",
        "    return score/ (nb0 * alpha0 + nb1 * alpha1 + nb2 * alpha2)\n",
        "\n",
        "\n",
        "# function to evaluate the score for image with zero spot\n",
        "def f0(t, o):\n",
        "    # print o[0]\n",
        "    if o[0] == 0:\n",
        "        return 0\n",
        "    return 1\n",
        "\n",
        "# function to evaluate the score for image with one spot\n",
        "def f1(t,o):\n",
        "    if o[0] == 0:\n",
        "        return 1\n",
        "    if o[0] == 1:\n",
        "        return d(o[1],o[2],t[1],t[2])\n",
        "    return ((1 + min(d(o[1], o[2], t[1], t[2]), d(o[3],o[4],t[1],t[2])))/ 2.0)\n",
        "\n",
        "# function to evaluate the score for image with two spot\n",
        "def f2(t,o):\n",
        "    if o[0]==0:\n",
        "        return 1\n",
        "    if o[0] == 1:\n",
        "        return ((1 + min(d(o[1], o[2], t[1], t[2]), d(o[1],o[2],t[3],t[4])))/ 2.0)\n",
        "    return (min( d(o[1], o[2], t[1], t[2]) + d(o[3], o[4], t[3], t[4]) , d(o[1], o[2], t[3], t[4]) + d(o[3], o[4], t[1], t[2]) )/ 2.0)\n",
        "\n",
        "# function of distance, evalue the quality of the detection\n",
        "def d(x1, y1, x2, y2):\n",
        "    dist = sqrt((x2-x1) * (x2-x1) + (y2-y1)*(y2-y1))\n",
        "    if dist < 2:\n",
        "        return ( (dist)/2.0)\n",
        "    return 1"
      ],
      "execution_count": 0,
      "outputs": []
    },
    {
      "metadata": {
        "id": "ocxOTzsh0ktS",
        "colab_type": "code",
        "outputId": "5f6f0721-f27b-4e14-f5f4-e78aa54168a5",
        "colab": {
          "base_uri": "https://localhost:8080/",
          "height": 34
        }
      },
      "cell_type": "code",
      "source": [
        "truth = descriptions.reset_index().values\n",
        "find = train_prediction.reset_index().values\n",
        "print(f'Score: {computeScore(truth, find)}')"
      ],
      "execution_count": 0,
      "outputs": [
        {
          "output_type": "stream",
          "text": [
            "Score: 0.8984613665914\n"
          ],
          "name": "stdout"
        }
      ]
    },
    {
      "metadata": {
        "id": "CJoFenLB0mi3",
        "colab_type": "code",
        "colab": {}
      },
      "cell_type": "code",
      "source": [
        ""
      ],
      "execution_count": 0,
      "outputs": []
    }
  ]
}